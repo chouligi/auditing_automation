{
 "cells": [
  {
   "cell_type": "code",
   "execution_count": 3,
   "metadata": {},
   "outputs": [
    {
     "ename": "ModuleNotFoundError",
     "evalue": "No module named 'xlrd'",
     "output_type": "error",
     "traceback": [
      "\u001b[0;31m---------------------------------------------------------------------------\u001b[0m",
      "\u001b[0;31mModuleNotFoundError\u001b[0m                       Traceback (most recent call last)",
      "\u001b[0;32m<ipython-input-3-19f454ff6b7a>\u001b[0m in \u001b[0;36m<module>\u001b[0;34m()\u001b[0m\n\u001b[1;32m      1\u001b[0m \u001b[0;32mimport\u001b[0m \u001b[0mpandas\u001b[0m \u001b[0;32mas\u001b[0m \u001b[0mpd\u001b[0m\u001b[0;34m\u001b[0m\u001b[0m\n\u001b[0;32m----> 2\u001b[0;31m \u001b[0;32mimport\u001b[0m \u001b[0mxlrd\u001b[0m\u001b[0;34m\u001b[0m\u001b[0m\n\u001b[0m",
      "\u001b[0;31mModuleNotFoundError\u001b[0m: No module named 'xlrd'"
     ]
    }
   ],
   "source": [
    "import pandas as pd\n",
    "import xlrd"
   ]
  },
  {
   "cell_type": "code",
   "execution_count": null,
   "metadata": {},
   "outputs": [],
   "source": []
  },
  {
   "cell_type": "code",
   "execution_count": 2,
   "metadata": {},
   "outputs": [
    {
     "ename": "ModuleNotFoundError",
     "evalue": "No module named 'xlrd'",
     "output_type": "error",
     "traceback": [
      "\u001b[0;31m---------------------------------------------------------------------------\u001b[0m",
      "\u001b[0;31mModuleNotFoundError\u001b[0m                       Traceback (most recent call last)",
      "\u001b[0;32m<ipython-input-2-2495a70e2913>\u001b[0m in \u001b[0;36m<module>\u001b[0;34m()\u001b[0m\n\u001b[1;32m      1\u001b[0m \u001b[0mbalance_sheet\u001b[0m \u001b[0;34m=\u001b[0m \u001b[0;34m'Test_auditing_notebook.xlsx'\u001b[0m\u001b[0;34m\u001b[0m\u001b[0m\n\u001b[1;32m      2\u001b[0m \u001b[0;34m\u001b[0m\u001b[0m\n\u001b[0;32m----> 3\u001b[0;31m \u001b[0mpd\u001b[0m\u001b[0;34m.\u001b[0m\u001b[0mread_excel\u001b[0m\u001b[0;34m(\u001b[0m\u001b[0mbalance_sheet\u001b[0m\u001b[0;34m,\u001b[0m \u001b[0mindex_col\u001b[0m\u001b[0;34m=\u001b[0m\u001b[0;32mNone\u001b[0m\u001b[0;34m,\u001b[0m \u001b[0mheader\u001b[0m\u001b[0;34m=\u001b[0m\u001b[0;32mNone\u001b[0m\u001b[0;34m)\u001b[0m\u001b[0;34m\u001b[0m\u001b[0m\n\u001b[0m",
      "\u001b[0;32m~/anaconda/envs/tensorflow/lib/python3.6/site-packages/pandas/io/excel.py\u001b[0m in \u001b[0;36mread_excel\u001b[0;34m(io, sheetname, header, skiprows, skip_footer, index_col, names, parse_cols, parse_dates, date_parser, na_values, thousands, convert_float, has_index_names, converters, dtype, true_values, false_values, engine, squeeze, **kwds)\u001b[0m\n\u001b[1;32m    201\u001b[0m \u001b[0;34m\u001b[0m\u001b[0m\n\u001b[1;32m    202\u001b[0m     \u001b[0;32mif\u001b[0m \u001b[0;32mnot\u001b[0m \u001b[0misinstance\u001b[0m\u001b[0;34m(\u001b[0m\u001b[0mio\u001b[0m\u001b[0;34m,\u001b[0m \u001b[0mExcelFile\u001b[0m\u001b[0;34m)\u001b[0m\u001b[0;34m:\u001b[0m\u001b[0;34m\u001b[0m\u001b[0m\n\u001b[0;32m--> 203\u001b[0;31m         \u001b[0mio\u001b[0m \u001b[0;34m=\u001b[0m \u001b[0mExcelFile\u001b[0m\u001b[0;34m(\u001b[0m\u001b[0mio\u001b[0m\u001b[0;34m,\u001b[0m \u001b[0mengine\u001b[0m\u001b[0;34m=\u001b[0m\u001b[0mengine\u001b[0m\u001b[0;34m)\u001b[0m\u001b[0;34m\u001b[0m\u001b[0m\n\u001b[0m\u001b[1;32m    204\u001b[0m \u001b[0;34m\u001b[0m\u001b[0m\n\u001b[1;32m    205\u001b[0m     return io._parse_excel(\n",
      "\u001b[0;32m~/anaconda/envs/tensorflow/lib/python3.6/site-packages/pandas/io/excel.py\u001b[0m in \u001b[0;36m__init__\u001b[0;34m(self, io, **kwds)\u001b[0m\n\u001b[1;32m    230\u001b[0m     \u001b[0;32mdef\u001b[0m \u001b[0m__init__\u001b[0m\u001b[0;34m(\u001b[0m\u001b[0mself\u001b[0m\u001b[0;34m,\u001b[0m \u001b[0mio\u001b[0m\u001b[0;34m,\u001b[0m \u001b[0;34m**\u001b[0m\u001b[0mkwds\u001b[0m\u001b[0;34m)\u001b[0m\u001b[0;34m:\u001b[0m\u001b[0;34m\u001b[0m\u001b[0m\n\u001b[1;32m    231\u001b[0m \u001b[0;34m\u001b[0m\u001b[0m\n\u001b[0;32m--> 232\u001b[0;31m         \u001b[0;32mimport\u001b[0m \u001b[0mxlrd\u001b[0m  \u001b[0;31m# throw an ImportError if we need to\u001b[0m\u001b[0;34m\u001b[0m\u001b[0m\n\u001b[0m\u001b[1;32m    233\u001b[0m \u001b[0;34m\u001b[0m\u001b[0m\n\u001b[1;32m    234\u001b[0m         \u001b[0mver\u001b[0m \u001b[0;34m=\u001b[0m \u001b[0mtuple\u001b[0m\u001b[0;34m(\u001b[0m\u001b[0mmap\u001b[0m\u001b[0;34m(\u001b[0m\u001b[0mint\u001b[0m\u001b[0;34m,\u001b[0m \u001b[0mxlrd\u001b[0m\u001b[0;34m.\u001b[0m\u001b[0m__VERSION__\u001b[0m\u001b[0;34m.\u001b[0m\u001b[0msplit\u001b[0m\u001b[0;34m(\u001b[0m\u001b[0;34m\".\"\u001b[0m\u001b[0;34m)\u001b[0m\u001b[0;34m[\u001b[0m\u001b[0;34m:\u001b[0m\u001b[0;36m2\u001b[0m\u001b[0;34m]\u001b[0m\u001b[0;34m)\u001b[0m\u001b[0;34m)\u001b[0m\u001b[0;34m\u001b[0m\u001b[0m\n",
      "\u001b[0;31mModuleNotFoundError\u001b[0m: No module named 'xlrd'"
     ]
    }
   ],
   "source": [
    "balance_sheet = 'Test_auditing_notebook.xlsx'\n",
    "\n",
    "pd.read_excel(balance_sheet, index_col=None, header=None)  "
   ]
  },
  {
   "cell_type": "code",
   "execution_count": 3,
   "metadata": {},
   "outputs": [
    {
     "name": "stdout",
     "output_type": "stream",
     "text": [
      "Requirement already satisfied: xlrd in /Users/Fosa/anaconda/lib/python3.6/site-packages (1.1.0)\n",
      "\u001b[31mtensorflow-tensorboard 0.4.0rc3 has requirement bleach==1.5.0, but you'll have bleach 2.1.3 which is incompatible.\u001b[0m\n",
      "\u001b[31mtensorflow-tensorboard 0.4.0rc3 has requirement html5lib==0.9999999, but you'll have html5lib 1.0.1 which is incompatible.\u001b[0m\n",
      "\u001b[33mCache entry deserialization failed, entry ignored\u001b[0m\n",
      "\u001b[33mYou are using pip version 10.0.1, however version 21.0.1 is available.\n",
      "You should consider upgrading via the 'pip install --upgrade pip' command.\u001b[0m\n"
     ]
    }
   ],
   "source": [
    "!pip3.6 install xlrd"
   ]
  },
  {
   "cell_type": "code",
   "execution_count": 4,
   "metadata": {},
   "outputs": [],
   "source": [
    "import xlrd\n",
    "import openpyxl"
   ]
  },
  {
   "cell_type": "code",
   "execution_count": 2,
   "metadata": {},
   "outputs": [
    {
     "name": "stdout",
     "output_type": "stream",
     "text": [
      "Collecting package metadata (repodata.json): done\n",
      "Solving environment: | \n",
      "The environment is inconsistent, please check the package plan carefully\n",
      "The following packages are causing the inconsistency:\n",
      "\n",
      "  - defaults/osx-64::numpy==1.15.1=py37h6a91979_0\n",
      "  - defaults/osx-64::dask==0.19.1=py37_0\n",
      "  - defaults/osx-64::mkl_fft==1.0.4=py37h5d10147_1\n",
      "  - defaults/osx-64::scikit-learn==0.19.2=py37h4f467ca_0\n",
      "  - defaults/osx-64::bottleneck==1.2.1=py37h1d22016_1\n",
      "  - defaults/osx-64::h5py==2.8.0=py37h878fce3_3\n",
      "  - defaults/osx-64::statsmodels==0.9.0=py37h1d22016_0\n",
      "  - defaults/osx-64::pytest-arraydiff==0.2=py37h39e3cac_0\n",
      "  - defaults/osx-64::scipy==1.1.0=py37h28f7352_1\n",
      "  - defaults/osx-64::matplotlib==2.2.3=py37h54f8f79_0\n",
      "  - defaults/osx-64::bkcharts==0.2=py37_0\n",
      "  - defaults/osx-64::pywavelets==1.0.0=py37h1d22016_0\n",
      "  - defaults/osx-64::patsy==0.5.0=py37_0\n",
      "  - defaults/osx-64::imageio==2.4.1=py37_0\n",
      "  - defaults/osx-64::mkl_random==1.0.1=py37h5d10147_1\n",
      "  - defaults/osx-64::numpy-base==1.15.1=py37h8a80b8c_0\n",
      "  - defaults/osx-64::anaconda==5.3.1=py37_0\n",
      "  - defaults/osx-64::numba==0.39.0=py37h6440ff4_0\n",
      "  - defaults/osx-64::odo==0.5.1=py37_0\n",
      "  - defaults/osx-64::pytables==3.4.4=py37h13cba08_0\n",
      "  - defaults/osx-64::datashape==0.5.4=py37_1\n",
      "  - defaults/osx-64::seaborn==0.9.0=py37_0\n",
      "  - defaults/osx-64::scikit-image==0.14.0=py37h0a44026_1\n",
      "  - defaults/osx-64::bokeh==0.13.0=py37_0\n",
      "  - defaults/osx-64::numexpr==2.6.8=py37h1dc9127_0\n",
      "  - defaults/osx-64::pandas==0.23.4=py37h6440ff4_0\n",
      "  - defaults/osx-64::pytest-doctestplus==0.1.3=py37_0\n",
      "  - defaults/osx-64::astropy==3.0.4=py37h1de35cc_0\n",
      "  - defaults/osx-64::mkl-service==1.1.2=py37h6b9c3cc_5\n",
      "  - defaults/osx-64::blaze==0.11.3=py37_0\n",
      "  - defaults/osx-64::pytest-astropy==0.4.0=py37_0\n",
      "done\n",
      "\n",
      "## Package Plan ##\n",
      "\n",
      "  environment location: /Users/Fosa/anaconda3\n",
      "\n",
      "  added / updated specs:\n",
      "    - xlrd\n",
      "\n",
      "\n",
      "The following packages will be downloaded:\n",
      "\n",
      "    package                    |            build\n",
      "    ---------------------------|-----------------\n",
      "    _anaconda_depends-2019.10  |           py37_0           5 KB\n",
      "    anaconda-custom            |           py37_1           3 KB\n",
      "    dask-1.1.1                 |             py_0           5 KB\n",
      "    fsspec-0.8.3               |             py_0          69 KB\n",
      "    h5py-2.10.0                |   py37h3134771_0         968 KB\n",
      "    joblib-1.0.0               |     pyhd3eb1b0_0         207 KB\n",
      "    json5-0.9.5                |             py_0          22 KB\n",
      "    llvm-openmp-10.0.0         |       h28b9765_0         270 KB\n",
      "    mkl-service-1.1.2          |   py37hfbe908c_5         130 KB\n",
      "    mkl_fft-1.0.10             |   py37h5e564d8_0         153 KB\n",
      "    mkl_random-1.0.2           |   py37h27c97d8_0         358 KB\n",
      "    mock-4.0.3                 |     pyhd3eb1b0_0          27 KB\n",
      "    numba-0.42.0               |   py37h6440ff4_0         2.6 MB\n",
      "    numexpr-2.6.9              |   py37h7413580_0         130 KB\n",
      "    numpy-1.16.2               |   py37hacdab7b_0          49 KB\n",
      "    numpy-base-1.16.2          |   py37h6575580_0         4.2 MB\n",
      "    pyrsistent-0.17.3          |   py37haf1e3a3_0          87 KB\n",
      "    pytables-3.5.1             |   py37h5bccee9_0         1.4 MB\n",
      "    ripgrep-12.1.1             |                0         1.4 MB\n",
      "    scikit-learn-0.20.3        |   py37h27c97d8_0         5.2 MB\n",
      "    scipy-1.2.1                |   py37h1410ff5_0        15.6 MB\n",
      "    sphinxcontrib-applehelp-1.0.2|     pyhd3eb1b0_0          29 KB\n",
      "    sphinxcontrib-devhelp-1.0.2|     pyhd3eb1b0_0          23 KB\n",
      "    sphinxcontrib-htmlhelp-1.0.3|     pyhd3eb1b0_0          28 KB\n",
      "    sphinxcontrib-jsmath-1.0.1 |     pyhd3eb1b0_0           8 KB\n",
      "    sphinxcontrib-qthelp-1.0.3 |     pyhd3eb1b0_0          26 KB\n",
      "    sphinxcontrib-serializinghtml-1.1.4|     pyhd3eb1b0_0          24 KB\n",
      "    tbb-2020.0                 |       h04f5b5a_0         167 KB\n",
      "    xlrd-2.0.1                 |     pyhd3eb1b0_0          92 KB\n",
      "    zipp-3.4.0                 |     pyhd3eb1b0_0          15 KB\n",
      "    ------------------------------------------------------------\n",
      "                                           Total:        33.2 MB\n",
      "\n",
      "The following NEW packages will be INSTALLED:\n",
      "\n",
      "  _anaconda_depends  pkgs/main/osx-64::_anaconda_depends-2019.10-py37_0\n",
      "  fsspec             pkgs/main/noarch::fsspec-0.8.3-py_0\n",
      "  joblib             pkgs/main/noarch::joblib-1.0.0-pyhd3eb1b0_0\n",
      "  json5              pkgs/main/noarch::json5-0.9.5-py_0\n",
      "  llvm-openmp        pkgs/main/osx-64::llvm-openmp-10.0.0-h28b9765_0\n",
      "  mock               pkgs/main/noarch::mock-4.0.3-pyhd3eb1b0_0\n",
      "  pyrsistent         pkgs/main/osx-64::pyrsistent-0.17.3-py37haf1e3a3_0\n",
      "  ripgrep            pkgs/main/osx-64::ripgrep-12.1.1-0\n",
      "  sphinxcontrib-app~ pkgs/main/noarch::sphinxcontrib-applehelp-1.0.2-pyhd3eb1b0_0\n",
      "  sphinxcontrib-dev~ pkgs/main/noarch::sphinxcontrib-devhelp-1.0.2-pyhd3eb1b0_0\n",
      "  sphinxcontrib-htm~ pkgs/main/noarch::sphinxcontrib-htmlhelp-1.0.3-pyhd3eb1b0_0\n",
      "  sphinxcontrib-jsm~ pkgs/main/noarch::sphinxcontrib-jsmath-1.0.1-pyhd3eb1b0_0\n",
      "  sphinxcontrib-qth~ pkgs/main/noarch::sphinxcontrib-qthelp-1.0.3-pyhd3eb1b0_0\n",
      "  sphinxcontrib-ser~ pkgs/main/noarch::sphinxcontrib-serializinghtml-1.1.4-pyhd3eb1b0_0\n",
      "  tbb                pkgs/main/osx-64::tbb-2020.0-h04f5b5a_0\n",
      "  zipp               pkgs/main/noarch::zipp-3.4.0-pyhd3eb1b0_0\n",
      "\n",
      "The following packages will be UPDATED:\n",
      "\n",
      "  dask                 pkgs/main/osx-64::dask-0.19.1-py37_0 --> pkgs/main/noarch::dask-1.1.1-py_0\n",
      "  h5py                                 2.8.0-py37h878fce3_3 --> 2.10.0-py37h3134771_0\n",
      "  mkl_fft                              1.0.4-py37h5d10147_1 --> 1.0.10-py37h5e564d8_0\n",
      "  mkl_random                           1.0.1-py37h5d10147_1 --> 1.0.2-py37h27c97d8_0\n",
      "  numba                               0.39.0-py37h6440ff4_0 --> 0.42.0-py37h6440ff4_0\n",
      "  numexpr                              2.6.8-py37h1dc9127_0 --> 2.6.9-py37h7413580_0\n",
      "  numpy                               1.15.1-py37h6a91979_0 --> 1.16.2-py37hacdab7b_0\n",
      "  numpy-base                          1.15.1-py37h8a80b8c_0 --> 1.16.2-py37h6575580_0\n",
      "  pytables                             3.4.4-py37h13cba08_0 --> 3.5.1-py37h5bccee9_0\n",
      "  scikit-learn                        0.19.2-py37h4f467ca_0 --> 0.20.3-py37h27c97d8_0\n",
      "  scipy                                1.1.0-py37h28f7352_1 --> 1.2.1-py37h1410ff5_0\n",
      "  xlrd                  pkgs/main/osx-64::xlrd-1.2.0-py37_0 --> pkgs/main/noarch::xlrd-2.0.1-pyhd3eb1b0_0\n",
      "\n",
      "The following packages will be DOWNGRADED:\n",
      "\n",
      "  anaconda                                     5.3.1-py37_0 --> custom-py37_1\n",
      "  mkl-service                          1.1.2-py37h6b9c3cc_5 --> 1.1.2-py37hfbe908c_5\n",
      "\n",
      "\n",
      "Proceed ([y]/n)? ^C\n",
      "\n",
      "CondaSystemExit: \n",
      "Operation aborted.  Exiting.\n",
      "\n"
     ]
    }
   ],
   "source": [
    "!conda install xlrd"
   ]
  },
  {
   "cell_type": "code",
   "execution_count": 1,
   "metadata": {},
   "outputs": [
    {
     "name": "stdout",
     "output_type": "stream",
     "text": [
      "/Users/Fosa/anaconda/envs/tensorflow/bin/python\n"
     ]
    }
   ],
   "source": [
    "import sys\n",
    "print(sys.executable)"
   ]
  },
  {
   "cell_type": "code",
   "execution_count": null,
   "metadata": {},
   "outputs": [],
   "source": []
  }
 ],
 "metadata": {
  "kernelspec": {
   "display_name": "Python 3",
   "language": "python",
   "name": "python3"
  },
  "language_info": {
   "codemirror_mode": {
    "name": "ipython",
    "version": 3
   },
   "file_extension": ".py",
   "mimetype": "text/x-python",
   "name": "python",
   "nbconvert_exporter": "python",
   "pygments_lexer": "ipython3",
   "version": "3.6.3"
  }
 },
 "nbformat": 4,
 "nbformat_minor": 2
}
